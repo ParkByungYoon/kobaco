{
 "cells": [
  {
   "cell_type": "code",
   "execution_count": 1,
   "metadata": {},
   "outputs": [],
   "source": [
    "import os\n",
    "import numpy as np\n",
    "import warnings\n",
    "import pandas as pd\n",
    "np.set_printoptions(suppress=True)\n",
    "\n",
    "warnings.filterwarnings(action='ignore')"
   ]
  },
  {
   "cell_type": "code",
   "execution_count": 2,
   "metadata": {},
   "outputs": [],
   "source": [
    "data_path = \"../data/\"\n",
    "view_hist = pd.read_pickle(os.path.join(data_path,'sid_6to6.pkl'))\n",
    "view_hist.dropna(inplace=True)"
   ]
  },
  {
   "cell_type": "code",
   "execution_count": 3,
   "metadata": {},
   "outputs": [
    {
     "name": "stdout",
     "output_type": "stream",
     "text": [
      "647887 4587 18971\n",
      "sparsity:  0.9925547325759463\n"
     ]
    }
   ],
   "source": [
    "tmp = view_hist[view_hist['interval_time'] >= 60]\n",
    "tmp_len = tmp.groupby('MAC').apply(len)\n",
    "user_ids = tmp_len[tmp_len >= 10].index\n",
    "tmp = tmp[tmp.MAC.isin(user_ids)]\n",
    "n_iter, n_user, n_item = len(tmp), tmp.MAC.nunique(), tmp.ptitle.nunique()\n",
    "\n",
    "print(n_iter, n_user, n_item)\n",
    "sparsity_ratio = 1 -(n_iter / (n_user * n_item))\n",
    "print('sparsity: ', sparsity_ratio)"
   ]
  },
  {
   "cell_type": "code",
   "execution_count": 5,
   "metadata": {},
   "outputs": [],
   "source": [
    "df = tmp[['MAC', 'ptitle']].reset_index(drop=True)\n",
    "df.to_csv(os.path.join(data_path, 'kobaco.csv'), index=False)"
   ]
  }
 ],
 "metadata": {
  "kernelspec": {
   "display_name": "py39",
   "language": "python",
   "name": "python3"
  },
  "language_info": {
   "codemirror_mode": {
    "name": "ipython",
    "version": 3
   },
   "file_extension": ".py",
   "mimetype": "text/x-python",
   "name": "python",
   "nbconvert_exporter": "python",
   "pygments_lexer": "ipython3",
   "version": "3.11.8"
  }
 },
 "nbformat": 4,
 "nbformat_minor": 2
}
