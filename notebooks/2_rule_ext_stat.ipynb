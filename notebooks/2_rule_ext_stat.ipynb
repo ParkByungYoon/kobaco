{
 "cells": [
  {
   "cell_type": "code",
   "execution_count": 1,
   "metadata": {},
   "outputs": [],
   "source": [
    "import sys\n",
    "# 환경 변수에 상위 디렉토리 경로 추가 --> 상위 디렉토리의 모듈(model, rule)을 사용하기 위함\n",
    "sys.path.append('../') # 해당 환경 변수는 현재 세션에서만 유지됨\n",
    "\n",
    "from model import DecisionTree\n",
    "from rule import RuleExtractor\n",
    "\n",
    "import os\n",
    "import numpy as np\n",
    "import warnings\n",
    "import pandas as pd\n",
    "\n",
    "np.set_printoptions(suppress=True) # 과학적 표기법 사용 억제(suppress=True)\n",
    "warnings.filterwarnings(action='ignore')"
   ]
  },
  {
   "cell_type": "code",
   "execution_count": 2,
   "metadata": {},
   "outputs": [],
   "source": [
    "data_path = \"../data/\" # 저장된 데이터 경로"
   ]
  },
  {
   "cell_type": "code",
   "execution_count": 3,
   "metadata": {},
   "outputs": [],
   "source": [
    "# sage, srgnn 중 선택\n",
    "embed_model = 'srgnn' # 임베딩 모델 선택\n",
    "\n",
    "# 임베딩된 유저 벡터 파일명\n",
    "filename = {'sage' : 'user_embedding_sage_sid_6to6_weighted.npy',\n",
    "            'srgnn' : 'srgnn_user_hybrid_6to6_weighted.npy'}"
   ]
  },
  {
   "cell_type": "code",
   "execution_count": 4,
   "metadata": {},
   "outputs": [
    {
     "name": "stdout",
     "output_type": "stream",
     "text": [
      "(4847, 128)\n"
     ]
    }
   ],
   "source": [
    "embed_path = os.path.join(data_path, filename[embed_model]) # 임베딩된 유저 벡터 파일 경로\n",
    "embedding = np.load(embed_path) # 임베딩된 유저 벡터 로드\n",
    "print(embedding.shape) # (유저 수, 임베딩 차원 수)"
   ]
  },
  {
   "cell_type": "code",
   "execution_count": 5,
   "metadata": {},
   "outputs": [
    {
     "name": "stdout",
     "output_type": "stream",
     "text": [
      "(4808, 202)\n"
     ]
    }
   ],
   "source": [
    "pivot_df_path = os.path.join(data_path, 'pivot_genre2_data.csv') # 장르별 피벗 데이터 파일 경로\n",
    "pivot_df = pd.read_csv(pivot_df_path, index_col=0)\n",
    "print(pivot_df.shape) # (유저 수, 장르 수)"
   ]
  },
  {
   "cell_type": "markdown",
   "metadata": {},
   "source": [
    "# Multi-Class Decision Tree"
   ]
  },
  {
   "cell_type": "code",
   "execution_count": 6,
   "metadata": {},
   "outputs": [
    {
     "name": "stdout",
     "output_type": "stream",
     "text": [
      "최대 score의 max_depth = None\n",
      "max_depth 9에서 target_socre 0.6을 달성하지 못하여 종료합니다.\n"
     ]
    },
    {
     "data": {
      "image/png": "[encoded data removed]",
      "text/plain": [
       "<Figure size 640x480 with 1 Axes>"
      ]
     },
     "metadata": {},
     "output_type": "display_data"
    },
    {
     "name": "stdout",
     "output_type": "stream",
     "text": [
      "--------f1_score 0.6을 만족하는 최소한의 max_depth--------\n",
      "max_depth: 10\n",
      "모델 파라미터: {'ccp_alpha': 0.0, 'class_weight': None, 'criterion': 'gini', 'max_depth': 10, 'max_features': None, 'max_leaf_nodes': None, 'min_impurity_decrease': 0.0, 'min_samples_leaf': 5, 'min_samples_split': 2, 'min_weight_fraction_leaf': 0.0, 'random_state': 42, 'splitter': 'best'}\n",
      "f1_score: 0.638\n"
     ]
    }
   ],
   "source": [
    "model = DecisionTree(pivot_df, embedding)\n",
    "select_metric = 'f1_score' # 'precision', 'recall', 'f1_score' 중 선택\n",
    "target_score = 0.6 # 목표 성능 지표\n",
    "select_param = 'max_depth' # 'max_depth', 'min_samples_split', 'min_impurity_decrease', 'cost_complexity_pruning', 'min_samples_leaf' 중 선택\n",
    "scale_ls = [i for i in range(30, 5, -1)] # 첫 param 부터 차례로 확인함 --> 순서 조절 주의\n",
    "fix_params_dic = {'min_samples_leaf':5}\n",
    "\n",
    "# 해당 target_score보다 낮지 않은 최소한의 parameter를 찾음\n",
    "proper_param_dic, proper_score = model.get_proper_param(\n",
    "    target_score=target_score,\n",
    "    scoring=select_metric,\n",
    "    check_param=select_param,\n",
    "    scale_ls=scale_ls,\n",
    "    **fix_params_dic)\n",
    "# 1. 완전하게 피팅한 트리를 만듬(= 100점 짜리 트리)\n",
    "# 2. 완전하게 피팅한 트리에서 해당 파라미터를 추출\n",
    "# 3. 해당 파라미터를 조금씩 더 엄격하게 조정하면서 트리를 여러번 만듬\n",
    "# 4. 트리를 만들 때마다 지정한 지표로 성능을 평가\n",
    "# 5. 지정한 지표가 target_score보다 낮은 경우, 트리를 만드는 것을 중단\n",
    "# 6. target_score를 만족하는 마지막 parameter를 proper_param로 반환, proper_param에 대한 score를 proper_score로 반환\n",
    "print(f'--------{select_metric} {target_score}을 만족하는 최소한의 {select_param}--------')\n",
    "print(f'{select_param}: {proper_param_dic[select_param]}')\n",
    "print(f'모델 파라미터: {proper_param_dic}')\n",
    "print(f'{select_metric}: {proper_score:.3f}')"
   ]
  },
  {
   "cell_type": "code",
   "execution_count": 11,
   "metadata": {},
   "outputs": [
    {
     "data": {
      "text/html": [
       "<style>#sk-container-id-2 {color: black;background-color: white;}#sk-container-id-2 pre{padding: 0;}#sk-container-id-2 div.sk-toggleable {background-color: white;}#sk-container-id-2 label.sk-toggleable__label {cursor: pointer;display: block;width: 100%;margin-bottom: 0;padding: 0.3em;box-sizing: border-box;text-align: center;}#sk-container-id-2 label.sk-toggleable__label-arrow:before {content: \"▸\";float: left;margin-right: 0.25em;color: #696969;}#sk-container-id-2 label.sk-toggleable__label-arrow:hover:before {color: black;}#sk-container-id-2 div.sk-estimator:hover label.sk-toggleable__label-arrow:before {color: black;}#sk-container-id-2 div.sk-toggleable__content {max-height: 0;max-width: 0;overflow: hidden;text-align: left;background-color: #f0f8ff;}#sk-container-id-2 div.sk-toggleable__content pre {margin: 0.2em;color: black;border-radius: 0.25em;background-color: #f0f8ff;}#sk-container-id-2 input.sk-toggleable__control:checked~div.sk-toggleable__content {max-height: 200px;max-width: 100%;overflow: auto;}#sk-container-id-2 input.sk-toggleable__control:checked~label.sk-toggleable__label-arrow:before {content: \"▾\";}#sk-container-id-2 div.sk-estimator input.sk-toggleable__control:checked~label.sk-toggleable__label {background-color: #d4ebff;}#sk-container-id-2 div.sk-label input.sk-toggleable__control:checked~label.sk-toggleable__label {background-color: #d4ebff;}#sk-container-id-2 input.sk-hidden--visually {border: 0;clip: rect(1px 1px 1px 1px);clip: rect(1px, 1px, 1px, 1px);height: 1px;margin: -1px;overflow: hidden;padding: 0;position: absolute;width: 1px;}#sk-container-id-2 div.sk-estimator {font-family: monospace;background-color: #f0f8ff;border: 1px dotted black;border-radius: 0.25em;box-sizing: border-box;margin-bottom: 0.5em;}#sk-container-id-2 div.sk-estimator:hover {background-color: #d4ebff;}#sk-container-id-2 div.sk-parallel-item::after {content: \"\";width: 100%;border-bottom: 1px solid gray;flex-grow: 1;}#sk-container-id-2 div.sk-label:hover label.sk-toggleable__label {background-color: #d4ebff;}#sk-container-id-2 div.sk-serial::before {content: \"\";position: absolute;border-left: 1px solid gray;box-sizing: border-box;top: 0;bottom: 0;left: 50%;z-index: 0;}#sk-container-id-2 div.sk-serial {display: flex;flex-direction: column;align-items: center;background-color: white;padding-right: 0.2em;padding-left: 0.2em;position: relative;}#sk-container-id-2 div.sk-item {position: relative;z-index: 1;}#sk-container-id-2 div.sk-parallel {display: flex;align-items: stretch;justify-content: center;background-color: white;position: relative;}#sk-container-id-2 div.sk-item::before, #sk-container-id-2 div.sk-parallel-item::before {content: \"\";position: absolute;border-left: 1px solid gray;box-sizing: border-box;top: 0;bottom: 0;left: 50%;z-index: -1;}#sk-container-id-2 div.sk-parallel-item {display: flex;flex-direction: column;z-index: 1;position: relative;background-color: white;}#sk-container-id-2 div.sk-parallel-item:first-child::after {align-self: flex-end;width: 50%;}#sk-container-id-2 div.sk-parallel-item:last-child::after {align-self: flex-start;width: 50%;}#sk-container-id-2 div.sk-parallel-item:only-child::after {width: 0;}#sk-container-id-2 div.sk-dashed-wrapped {border: 1px dashed gray;margin: 0 0.4em 0.5em 0.4em;box-sizing: border-box;padding-bottom: 0.4em;background-color: white;}#sk-container-id-2 div.sk-label label {font-family: monospace;font-weight: bold;display: inline-block;line-height: 1.2em;}#sk-container-id-2 div.sk-label-container {text-align: center;}#sk-container-id-2 div.sk-container {/* jupyter's `normalize.less` sets `[hidden] { display: none; }` but bootstrap.min.css set `[hidden] { display: none !important; }` so we also need the `!important` here to be able to override the default hidden behavior on the sphinx rendered scikit-learn.org. See: https://github.com/scikit-learn/scikit-learn/issues/21755 */display: inline-block !important;position: relative;}#sk-container-id-2 div.sk-text-repr-fallback {display: none;}</style><div id=\"sk-container-id-2\" class=\"sk-top-container\"><div class=\"sk-text-repr-fallback\"><pre>DecisionTreeClassifier(min_impurity_decrease=0.0007, min_samples_leaf=25,\n",
       "                       random_state=42)</pre><b>In a Jupyter environment, please rerun this cell to show the HTML representation or trust the notebook. <br />On GitHub, the HTML representation is unable to render, please try loading this page with nbviewer.org.</b></div><div class=\"sk-container\" hidden><div class=\"sk-item\"><div class=\"sk-estimator sk-toggleable\"><input class=\"sk-toggleable__control sk-hidden--visually\" id=\"sk-estimator-id-2\" type=\"checkbox\" checked><label for=\"sk-estimator-id-2\" class=\"sk-toggleable__label sk-toggleable__label-arrow\">DecisionTreeClassifier</label><div class=\"sk-toggleable__content\"><pre>DecisionTreeClassifier(min_impurity_decrease=0.0007, min_samples_leaf=25,\n",
       "                       random_state=42)</pre></div></div></div></div></div>"
      ],
      "text/plain": [
       "DecisionTreeClassifier(min_impurity_decrease=0.0007, min_samples_leaf=25,\n",
       "                       random_state=42)"
      ]
     },
     "execution_count": 11,
     "metadata": {},
     "output_type": "execute_result"
    }
   ],
   "source": [
    "model.max_param_dt = model.make_dt(min_samples_leaf=25, min_impurity_decrease=0.0007) # 최적의 파라미터로 트리 만들기\n",
    "model.max_param_dt"
   ]
  },
  {
   "cell_type": "code",
   "execution_count": 12,
   "metadata": {},
   "outputs": [],
   "source": [
    "k=15\n",
    "len_or_list = []\n",
    "save_dir = f'../output/{embed_model}_rule'\n",
    "if not os.path.exists(save_dir):\n",
    "    os.makedirs(save_dir)\n",
    "\n",
    "for i in range(k):\n",
    "    rule_extractor = RuleExtractor(model)\n",
    "    rules = rule_extractor.extract_rule(segment_num=i)\n",
    "    \n",
    "    or_list = rules.split('[OR]')\n",
    "\n",
    "    ls = [[r.split() for r in l.split('[AND]')] for l in or_list]\n",
    "    new_ls = []\n",
    "    for node in ls:\n",
    "        new_ls.append([])\n",
    "        rule_dic = {}\n",
    "        for r in node:\n",
    "            key_name = f'{r[0]} {r[1]} '\n",
    "            rule_dic[key_name] = rule_dic.get(key_name, [])\n",
    "            rule_dic[key_name].append(float(r[2]))    \n",
    "        \n",
    "        for k, v in rule_dic.items():\n",
    "            if k in '>':\n",
    "                rule_dic[k] = max(v)\n",
    "            else:\n",
    "                rule_dic[k] = min(v)\n",
    "        \n",
    "        for k, v in rule_dic.items():\n",
    "            new_rule = k.split()\n",
    "            new_rule.append(str(v))\n",
    "            new_ls[-1].append(new_rule)\n",
    "    \n",
    "    node_list = []\n",
    "    for node in new_ls:\n",
    "        rule_list = []\n",
    "        for rule in node:\n",
    "            rule_list.append(''.join(rule))\n",
    "        node_rule = ' [AND] '.join(rule_list)\n",
    "        node_list.append(node_rule)\n",
    "    total_rule = ' [OR]\\n'.join(node_list)\n",
    "\n",
    "    with open(save_dir + f'/{embed_model}_seg_rule_extract{i}.txt', 'w') as f:\n",
    "        f.writelines(total_rule)"
   ]
  },
  {
   "cell_type": "code",
   "execution_count": 13,
   "metadata": {},
   "outputs": [
    {
     "data": {
      "text/html": [
       "<div>\n",
       "<style scoped>\n",
       "    .dataframe tbody tr th:only-of-type {\n",
       "        vertical-align: middle;\n",
       "    }\n",
       "\n",
       "    .dataframe tbody tr th {\n",
       "        vertical-align: top;\n",
       "    }\n",
       "\n",
       "    .dataframe thead th {\n",
       "        text-align: right;\n",
       "    }\n",
       "</style>\n",
       "<table border=\"1\" class=\"dataframe\">\n",
       "  <thead>\n",
       "    <tr style=\"text-align: right;\">\n",
       "      <th></th>\n",
       "      <th>rule_num</th>\n",
       "      <th>predict_user_num</th>\n",
       "      <th>depth_min</th>\n",
       "      <th>depth_max</th>\n",
       "      <th>depth_mean</th>\n",
       "    </tr>\n",
       "  </thead>\n",
       "  <tbody>\n",
       "    <tr>\n",
       "      <th>0</th>\n",
       "      <td>14.0</td>\n",
       "      <td>528.00</td>\n",
       "      <td>6.00</td>\n",
       "      <td>9.00</td>\n",
       "      <td>8.36</td>\n",
       "    </tr>\n",
       "    <tr>\n",
       "      <th>1</th>\n",
       "      <td>8.0</td>\n",
       "      <td>490.00</td>\n",
       "      <td>4.00</td>\n",
       "      <td>8.00</td>\n",
       "      <td>5.25</td>\n",
       "    </tr>\n",
       "    <tr>\n",
       "      <th>2</th>\n",
       "      <td>1.0</td>\n",
       "      <td>42.00</td>\n",
       "      <td>4.00</td>\n",
       "      <td>4.00</td>\n",
       "      <td>4.00</td>\n",
       "    </tr>\n",
       "    <tr>\n",
       "      <th>3</th>\n",
       "      <td>8.0</td>\n",
       "      <td>296.00</td>\n",
       "      <td>5.00</td>\n",
       "      <td>7.00</td>\n",
       "      <td>6.50</td>\n",
       "    </tr>\n",
       "    <tr>\n",
       "      <th>4</th>\n",
       "      <td>15.0</td>\n",
       "      <td>584.00</td>\n",
       "      <td>4.00</td>\n",
       "      <td>12.00</td>\n",
       "      <td>7.27</td>\n",
       "    </tr>\n",
       "    <tr>\n",
       "      <th>5</th>\n",
       "      <td>2.0</td>\n",
       "      <td>88.00</td>\n",
       "      <td>7.00</td>\n",
       "      <td>7.00</td>\n",
       "      <td>7.00</td>\n",
       "    </tr>\n",
       "    <tr>\n",
       "      <th>6</th>\n",
       "      <td>11.0</td>\n",
       "      <td>409.00</td>\n",
       "      <td>6.00</td>\n",
       "      <td>9.00</td>\n",
       "      <td>7.45</td>\n",
       "    </tr>\n",
       "    <tr>\n",
       "      <th>7</th>\n",
       "      <td>2.0</td>\n",
       "      <td>79.00</td>\n",
       "      <td>5.00</td>\n",
       "      <td>5.00</td>\n",
       "      <td>5.00</td>\n",
       "    </tr>\n",
       "    <tr>\n",
       "      <th>8</th>\n",
       "      <td>6.0</td>\n",
       "      <td>260.00</td>\n",
       "      <td>6.00</td>\n",
       "      <td>9.00</td>\n",
       "      <td>7.83</td>\n",
       "    </tr>\n",
       "    <tr>\n",
       "      <th>9</th>\n",
       "      <td>10.0</td>\n",
       "      <td>505.00</td>\n",
       "      <td>6.00</td>\n",
       "      <td>11.00</td>\n",
       "      <td>8.70</td>\n",
       "    </tr>\n",
       "    <tr>\n",
       "      <th>10</th>\n",
       "      <td>3.0</td>\n",
       "      <td>75.00</td>\n",
       "      <td>7.00</td>\n",
       "      <td>9.00</td>\n",
       "      <td>7.67</td>\n",
       "    </tr>\n",
       "    <tr>\n",
       "      <th>11</th>\n",
       "      <td>4.0</td>\n",
       "      <td>141.00</td>\n",
       "      <td>6.00</td>\n",
       "      <td>9.00</td>\n",
       "      <td>7.50</td>\n",
       "    </tr>\n",
       "    <tr>\n",
       "      <th>12</th>\n",
       "      <td>14.0</td>\n",
       "      <td>546.00</td>\n",
       "      <td>6.00</td>\n",
       "      <td>9.00</td>\n",
       "      <td>7.79</td>\n",
       "    </tr>\n",
       "    <tr>\n",
       "      <th>13</th>\n",
       "      <td>2.0</td>\n",
       "      <td>70.00</td>\n",
       "      <td>6.00</td>\n",
       "      <td>8.00</td>\n",
       "      <td>7.00</td>\n",
       "    </tr>\n",
       "    <tr>\n",
       "      <th>14</th>\n",
       "      <td>17.0</td>\n",
       "      <td>695.00</td>\n",
       "      <td>4.00</td>\n",
       "      <td>12.00</td>\n",
       "      <td>8.82</td>\n",
       "    </tr>\n",
       "    <tr>\n",
       "      <th>mean</th>\n",
       "      <td>7.8</td>\n",
       "      <td>320.53</td>\n",
       "      <td>5.47</td>\n",
       "      <td>8.53</td>\n",
       "      <td>7.08</td>\n",
       "    </tr>\n",
       "  </tbody>\n",
       "</table>\n",
       "</div>"
      ],
      "text/plain": [
       "      rule_num  predict_user_num  depth_min  depth_max  depth_mean\n",
       "0         14.0            528.00       6.00       9.00        8.36\n",
       "1          8.0            490.00       4.00       8.00        5.25\n",
       "2          1.0             42.00       4.00       4.00        4.00\n",
       "3          8.0            296.00       5.00       7.00        6.50\n",
       "4         15.0            584.00       4.00      12.00        7.27\n",
       "5          2.0             88.00       7.00       7.00        7.00\n",
       "6         11.0            409.00       6.00       9.00        7.45\n",
       "7          2.0             79.00       5.00       5.00        5.00\n",
       "8          6.0            260.00       6.00       9.00        7.83\n",
       "9         10.0            505.00       6.00      11.00        8.70\n",
       "10         3.0             75.00       7.00       9.00        7.67\n",
       "11         4.0            141.00       6.00       9.00        7.50\n",
       "12        14.0            546.00       6.00       9.00        7.79\n",
       "13         2.0             70.00       6.00       8.00        7.00\n",
       "14        17.0            695.00       4.00      12.00        8.82\n",
       "mean       7.8            320.53       5.47       8.53        7.08"
      ]
     },
     "execution_count": 13,
     "metadata": {},
     "output_type": "execute_result"
    }
   ],
   "source": [
    "rule_dic = {'rule_num':[], 'predict_user_num':[], 'depth_min':[], 'depth_max':[], 'depth_mean':[]}\n",
    "\n",
    "pred_array = model.max_param_dt.predict(pivot_df)\n",
    "pred_value_counts = pd.DataFrame(pred_array).value_counts()\n",
    "\n",
    "k=15\n",
    "for i in range(k):\n",
    "    rule_dic['predict_user_num'].append(pred_value_counts[i])\n",
    "    with open(save_dir + f'/{embed_model}_seg_rule_extract{i}.txt', 'r') as f:\n",
    "        or_list = f.read().split('[OR]')\n",
    "    rule_num = len(or_list)\n",
    "    rule_dic['rule_num'].append(rule_num)\n",
    "    depth_ls = []\n",
    "    for and_rule in or_list:\n",
    "        and_list = and_rule.split('[AND]')\n",
    "        depth_ls.append(len(and_list))\n",
    "    rule_dic['depth_max'].append(max(depth_ls))\n",
    "    rule_dic['depth_min'].append(min(depth_ls))\n",
    "    rule_dic['depth_mean'].append(np.mean(depth_ls))\n",
    "\n",
    "rule_stat_df = pd.DataFrame(rule_dic)\n",
    "rule_stat_df.loc['mean'] = rule_stat_df.mean()\n",
    "round(rule_stat_df, 2)"
   ]
  },
  {
   "cell_type": "code",
   "execution_count": 14,
   "metadata": {},
   "outputs": [],
   "source": [
    "rule_stat_df.to_csv('../output/pre_pruning_result.csv', index=False)"
   ]
  }
 ],
 "metadata": {
  "kernelspec": {
   "display_name": "py39",
   "language": "python",
   "name": "python3"
  },
  "language_info": {
   "codemirror_mode": {
    "name": "ipython",
    "version": 3
   },
   "file_extension": ".py",
   "mimetype": "text/x-python",
   "name": "python",
   "nbconvert_exporter": "python",
   "pygments_lexer": "ipython3",
   "version": "3.9.16"
  }
 },
 "nbformat": 4,
 "nbformat_minor": 2
}
