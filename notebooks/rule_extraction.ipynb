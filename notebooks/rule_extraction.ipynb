{
 "cells": [
  {
   "cell_type": "code",
   "execution_count": 1,
   "metadata": {},
   "outputs": [],
   "source": [
    "import sys\n",
    "sys.path.append('../')\n",
    "\n",
    "from model import DecisionTree\n",
    "from rule import RuleExtractor\n",
    "\n",
    "import os\n",
    "import numpy as np\n",
    "import warnings\n",
    "import pandas as pd\n",
    "\n",
    "np.set_printoptions(suppress=True)\n",
    "\n",
    "warnings.filterwarnings(action='ignore')"
   ]
  },
  {
   "cell_type": "code",
   "execution_count": 2,
   "metadata": {},
   "outputs": [],
   "source": [
    "# sage, srgnn 중 선택\n",
    "embed_model = 'srgnn'\n",
    "filename = {'sage' : 'user_embedding_sage_sid_6to6_weighted.npy', 'srgnn' : 'srgnn_user_hybrid_6to6_weighted.npy'}\n",
    "data_path = \"../data/\"\n",
    "\n",
    "pivot_df = pd.read_csv(os.path.join(data_path, 'pivot_genre2_data.csv'), index_col=0)\n",
    "embedding = np.load(os.path.join(data_path, filename[embed_model]))"
   ]
  },
  {
   "cell_type": "markdown",
   "metadata": {},
   "source": [
    "# One vs Rest Decision Tree"
   ]
  },
  {
   "cell_type": "markdown",
   "metadata": {},
   "source": [
    "# Multi-Class Decision Tree"
   ]
  },
  {
   "cell_type": "code",
   "execution_count": 3,
   "metadata": {},
   "outputs": [
    {
     "name": "stdout",
     "output_type": "stream",
     "text": [
      "testing depth 10...\r"
     ]
    },
    {
     "data": {
      "image/png": "[encoded data removed]",
      "text/plain": [
       "<Figure size 640x480 with 1 Axes>"
      ]
     },
     "metadata": {},
     "output_type": "display_data"
    },
    {
     "name": "stdout",
     "output_type": "stream",
     "text": [
      "9 0.6312084083124816\n"
     ]
    }
   ],
   "source": [
    "model = DecisionTree(pivot_df, embedding)\n",
    "max_depth, max_score = model.get_proper_depth(target_score=0.6, scoring='f1_score')\n",
    "print(max_depth, max_score)\n",
    "# model = DecisionTree(pivot_df, embedding)\n",
    "# proper_mss, max_score = model.get_proper_min_sample_split(target_score=0.7, scoring='precision')\n",
    "# print(proper_mss, max_score)\n",
    "# model = DecisionTree(pivot_df, embedding)\n",
    "# proper_mid, max_score = model.get_proper_min_impurity_decrease(target_score=0.7, scoring='precision')\n",
    "# print(proper_mid, max_score)\n",
    "# model = DecisionTree(pivot_df, embedding)\n",
    "# proper_ccp, max_score = model.get_proper_cost_complexity_pruning(target_score=0.7, scoring='precision')\n",
    "# print(proper_ccp, max_score)\n",
    "# model = DecisionTree(pivot_df, embedding)\n",
    "# proper_msl, max_score = model.get_proper_min_samples_leaf(target_score=0.7, scoring='precision')\n",
    "# print(proper_msl, max_score)"
   ]
  },
  {
   "cell_type": "code",
   "execution_count": 4,
   "metadata": {},
   "outputs": [],
   "source": [
    "k=15\n",
    "len_or_list = []\n",
    "save_dir = f'../output/{embed_model}_rule'\n",
    "\n",
    "for i in range(k):\n",
    "    rule_extractor = RuleExtractor(model)\n",
    "    rules = rule_extractor.extract_rule(segment_num=i)\n",
    "    \n",
    "    or_list = rules.split('[OR]')\n",
    "\n",
    "    ls = [[r.split() for r in l.split('[AND]')] for l in or_list]\n",
    "    new_ls = []\n",
    "    for node in ls:\n",
    "        new_ls.append([])\n",
    "        rule_dic = {}\n",
    "        for r in node:\n",
    "            key_name = f'{r[0]} {r[1]} '\n",
    "            rule_dic[key_name] = rule_dic.get(key_name, [])\n",
    "            rule_dic[key_name].append(float(r[2]))    \n",
    "        \n",
    "        for k, v in rule_dic.items():\n",
    "            if k in '>':\n",
    "                rule_dic[k] = max(v)\n",
    "            else:\n",
    "                rule_dic[k] = min(v)\n",
    "        \n",
    "        for k, v in rule_dic.items():\n",
    "            new_rule = k.split()\n",
    "            new_rule.append(str(v))\n",
    "            new_ls[-1].append(new_rule)\n",
    "            \n",
    "    # 생성 규칙 수\n",
    "    total_rule_ls = []\n",
    "    for node in new_ls:\n",
    "        for rule in node:\n",
    "            total_rule_ls.append(str(rule))\n",
    "    \n",
    "    node_list = []\n",
    "    for node in new_ls:\n",
    "        rule_list = []\n",
    "        for rule in node:\n",
    "            rule_list.append(''.join(rule))\n",
    "        node_rule = ' [AND] '.join(rule_list)\n",
    "        node_list.append(node_rule)\n",
    "    total_rule = ' [OR]\\n'.join(node_list)\n",
    "\n",
    "    with open(save_dir + f'/{embed_model}_seg_rule_extract{i}.txt', 'w') as f:\n",
    "        f.writelines(total_rule)"
   ]
  },
  {
   "cell_type": "code",
   "execution_count": 5,
   "metadata": {},
   "outputs": [
    {
     "name": "stdout",
     "output_type": "stream",
     "text": [
      "343\n",
      "490\n",
      "63\n",
      "335\n",
      "512\n",
      "117\n",
      "377\n",
      "59\n",
      "266\n",
      "710\n",
      "99\n",
      "118\n",
      "529\n",
      "95\n",
      "695\n"
     ]
    }
   ],
   "source": [
    "pred_df = pivot_df.copy()\n",
    "\n",
    "pred_df['label'] = model.Y\n",
    "pred_df['prediction'] = model.max_depth_dt.predict(pivot_df)\n",
    "\n",
    "label = pred_df['label'].value_counts().sort_index()\n",
    "prediction = pred_df['prediction'].value_counts().sort_index()\n",
    "\n",
    "for y_true, y_pred in zip(label, prediction):\n",
    "    print(y_pred)"
   ]
  },
  {
   "cell_type": "markdown",
   "metadata": {},
   "source": [
    "## segment 1로 실험해보기\n",
    "- 집합 줄이고\n",
    "- set으로"
   ]
  },
  {
   "cell_type": "code",
   "execution_count": null,
   "metadata": {},
   "outputs": [],
   "source": [
    "i = 1\n",
    "f = open(f'../output/{embed_model}_rule/{embed_model}_seg_rule_extract{i}.txt', 'r')\n",
    "ls = [[r.split() for r in l.split('[AND]')] for l in f.read().split('[OR]')]\n",
    "ls"
   ]
  },
  {
   "cell_type": "code",
   "execution_count": null,
   "metadata": {},
   "outputs": [],
   "source": [
    "sss = set()\n",
    "for node in ls:\n",
    "    for r in node:\n",
    "        sss.add(r[1])\n",
    "sss"
   ]
  },
  {
   "cell_type": "code",
   "execution_count": null,
   "metadata": {},
   "outputs": [],
   "source": [
    "i = 1 # 세그멘트 1에 대해서 실험\n",
    "f = open(f'../output/{embed_model}_rule/{embed_model}_seg_rule_extract{i}.txt', 'r')\n",
    "ls = [[r.split() for r in l.split('[AND]')] for l in f.read().split('[OR]')]\n",
    "new_ls = []\n",
    "for node in ls:\n",
    "    new_ls.append([])\n",
    "    rule_dic = {}\n",
    "    for r in node:\n",
    "        key_name = f'{r[0]} {r[1]} '\n",
    "        rule_dic[key_name] = rule_dic.get(key_name, [])\n",
    "        rule_dic[key_name].append(float(r[2]))    \n",
    "    \n",
    "    for k, v in rule_dic.items():\n",
    "        if k in '>':\n",
    "            rule_dic[k] = max(v)\n",
    "        else:\n",
    "            rule_dic[k] = min(v)\n",
    "    \n",
    "    for k, v in rule_dic.items():\n",
    "        new_rule = k.split()\n",
    "        new_rule.append(str(v))\n",
    "        new_ls[-1].append(new_rule)\n",
    "new_ls"
   ]
  },
  {
   "cell_type": "code",
   "execution_count": null,
   "metadata": {},
   "outputs": [],
   "source": [
    "# 기존 방법\n",
    "total_rule_ls = []\n",
    "for node in ls:\n",
    "    for rule in node:\n",
    "        total_rule_ls.append(str(rule))\n",
    "print(len(total_rule_ls)) # 리스트에서 생성 규칙 수\n",
    "print(len(set(total_rule_ls))) # set에서 생성 규칙 수"
   ]
  },
  {
   "cell_type": "code",
   "execution_count": null,
   "metadata": {},
   "outputs": [],
   "source": [
    "# 새로운 방법\n",
    "total_rule_ls = []\n",
    "for node in new_ls:\n",
    "    for rule in node:\n",
    "        total_rule_ls.append(str(rule))\n",
    "print(len(total_rule_ls)) # 리스트에서 생성 규칙 수\n",
    "print(len(set(total_rule_ls))) # set에서 생성 규칙 수"
   ]
  }
 ],
 "metadata": {
  "kernelspec": {
   "display_name": "py39",
   "language": "python",
   "name": "python3"
  },
  "language_info": {
   "codemirror_mode": {
    "name": "ipython",
    "version": 3
   },
   "file_extension": ".py",
   "mimetype": "text/x-python",
   "name": "python",
   "nbconvert_exporter": "python",
   "pygments_lexer": "ipython3",
   "version": "3.9.16"
  }
 },
 "nbformat": 4,
 "nbformat_minor": 2
}
