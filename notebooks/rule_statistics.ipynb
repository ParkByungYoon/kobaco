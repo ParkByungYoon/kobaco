{
 "cells": [
  {
   "cell_type": "code",
   "execution_count": null,
   "metadata": {},
   "outputs": [],
   "source": [
    "import sys\n",
    "sys.path.append('../')\n",
    "\n",
    "import os\n",
    "import numpy as np\n",
    "import warnings\n",
    "import pandas as pd\n",
    "import matplotlib.pyplot as plt\n",
    "from collections import defaultdict\n",
    "import seaborn as sns\n",
    "\n",
    "from model import DecisionTree\n",
    "\n",
    "np.set_printoptions(suppress=True)\n",
    "\n",
    "warnings.filterwarnings(action='ignore')\n",
    "\n",
    "sns.set(font=\"Malgun Gothic\", rc={\"axes.unicode_minus\":False}, style='white')"
   ]
  },
  {
   "cell_type": "code",
   "execution_count": null,
   "metadata": {},
   "outputs": [],
   "source": [
    "data_path = \"../data/\"\n",
    "pivot_df = pd.read_csv(os.path.join(data_path, 'pivot_genre2_data.csv'), index_col=0)\n",
    "embed_model = 'srgnn'\n",
    "filename = {'sage' : 'user_embedding_sage_sid_6to6_weighted.npy', 'srgnn' : 'srgnn_user_hybrid_6to6_weighted.npy'}\n",
    "embedding = np.load(os.path.join(data_path, filename[embed_model]))\n",
    "save_dir = f'../output/{embed_model}_rule'\n",
    "k = 15"
   ]
  },
  {
   "cell_type": "code",
   "execution_count": null,
   "metadata": {},
   "outputs": [],
   "source": [
    "pivot_df"
   ]
  },
  {
   "cell_type": "code",
   "execution_count": null,
   "metadata": {},
   "outputs": [],
   "source": [
    "model = DecisionTree(pivot_df, embedding)\n",
    "pivot_df['Label'] = model.Y"
   ]
  },
  {
   "cell_type": "code",
   "execution_count": null,
   "metadata": {},
   "outputs": [],
   "source": [
    "for i in range(k):\n",
    "    rule_dict = defaultdict(list)\n",
    "\n",
    "    with open(save_dir + f'/{embed_model}_seg_rule_extract{i}.txt', 'r') as f:\n",
    "        full_text = f.read()\n",
    "\n",
    "    or_list = full_text.split('[OR]')\n",
    "    for or_rule in or_list:\n",
    "        rule_list = or_rule.split('[AND]')\n",
    "        for rule in rule_list:\n",
    "            rule = rule.strip()\n",
    "            \n",
    "            for operator in ['>=', '>', '<=', '<']:\n",
    "                if operator in rule:\n",
    "                    # key: genre, value: time\n",
    "                    key, value = rule.split(operator)\n",
    "                    value = float(value)\n",
    "                    if value not in rule_dict[key]:\n",
    "                        rule_dict[key].append(value)\n",
    "                    break\n",
    "    break\n",
    "\n",
    "# key: genre, value: time_list\n",
    "for key, value in rule_dict.items():\n",
    "    value.append(-float('inf'))\n",
    "    value.append(float('inf'))"
   ]
  },
  {
   "cell_type": "code",
   "execution_count": null,
   "metadata": {},
   "outputs": [],
   "source": [
    "print('전체 중장르 개수:',len(pivot_df.columns))\n",
    "print('사용된 중장르 개수:',len(rule_dict))"
   ]
  },
  {
   "cell_type": "code",
   "execution_count": null,
   "metadata": {},
   "outputs": [],
   "source": [
    "cnt = 0\n",
    "for key, value in rule_dict.items():\n",
    "    temp_df = pivot_df[pivot_df['Label'] == 0]\n",
    "\n",
    "    value = sorted(value)\n",
    "    time_group = pd.cut(temp_df[key].values, bins=value)\n",
    "    # print(time_group)\n",
    "\n",
    "    group_name = []\n",
    "    for i, v in enumerate(value):\n",
    "        if i==0:                     \n",
    "            prev_v = '0'\n",
    "            continue\n",
    "        else:\n",
    "            name = prev_v + ' < ' + key + ' <= ' + str(v)\n",
    "        \n",
    "        prev_v = str(v)\n",
    "        group_name.append(name)\n",
    "    \n",
    "    time_group = time_group.rename_categories(group_name)\n",
    "    \n",
    "    df = pd.DataFrame({'time': temp_df[key].values, 'time_group': time_group})\n",
    "\n",
    "    count_df = df['time_group'].value_counts(sort=False)\n",
    "    \n",
    "    cnt += 1\n",
    "    plt.figure(figsize=(5,3))\n",
    "    plt.barh(count_df.index, count_df.values)\n",
    "    file_name = key.replace('/','_')\n",
    "    plt.savefig(f'../output/figures/{file_name}.png', bbox_inches='tight')\n",
    "    plt.show()"
   ]
  },
  {
   "cell_type": "markdown",
   "metadata": {},
   "source": [
    "## 모든 세그먼트"
   ]
  },
  {
   "cell_type": "code",
   "execution_count": null,
   "metadata": {},
   "outputs": [],
   "source": [
    "rule_dict = defaultdict(list)\n",
    "\n",
    "for i in range(k):\n",
    "    with open(save_dir + f'/{embed_model}_seg_rule_extract{i}.txt', 'r') as f:\n",
    "        full_text = f.read()\n",
    "\n",
    "    or_list = full_text.split('[OR]')\n",
    "    for or_rule in or_list:\n",
    "        rule_list = or_rule.split('[AND]')\n",
    "        for rule in rule_list:\n",
    "            rule = rule.strip()\n",
    "            \n",
    "            for operator in ['>=', '>', '<=', '<']:\n",
    "                if operator in rule:\n",
    "                    # key: genre, value: time\n",
    "                    key, value = rule.split(operator)\n",
    "                    value = float(value)\n",
    "                    if value not in rule_dict[key]:\n",
    "                        rule_dict[key].append(value)\n",
    "                    break\n",
    "\n",
    "# key: genre, value: time_list\n",
    "for key, value in rule_dict.items():\n",
    "    value.append(-float('inf'))\n",
    "    value.append(float('inf'))"
   ]
  },
  {
   "cell_type": "code",
   "execution_count": null,
   "metadata": {},
   "outputs": [],
   "source": [
    "print('전체 중장르 개수:',len(pivot_df.columns))\n",
    "print('사용된 중장르 개수:',len(rule_dict))"
   ]
  },
  {
   "cell_type": "code",
   "execution_count": null,
   "metadata": {},
   "outputs": [],
   "source": [
    "for key, value in rule_dict.items():\n",
    "    value = sorted(value)\n",
    "    time_group = pd.cut(pivot_df[key].values, bins=value)\n",
    "\n",
    "    group_name = []\n",
    "    for i, v in enumerate(value):\n",
    "        if i==0:                     \n",
    "            prev_v = '0'\n",
    "            continue\n",
    "        else:\n",
    "            name = prev_v + ' <= ' + key + ' < ' + str(v)\n",
    "        \n",
    "        prev_v = str(v)\n",
    "        group_name.append(name)\n",
    "    \n",
    "    time_group = time_group.rename_categories(group_name)\n",
    "    \n",
    "    df = pd.DataFrame({'time': pivot_df[key].values, 'time_group': time_group})\n",
    "\n",
    "    count_df = df['time_group'].value_counts(sort=False)\n",
    "\n",
    "    print(count_df.index.values)\n",
    "    plt.figure(figsize=(4,3))\n",
    "    plt.barh(count_df.index, count_df.values)\n",
    "    plt.show()"
   ]
  },
  {
   "cell_type": "markdown",
   "metadata": {},
   "source": [
    "## 모든 세그멘트에 대하여 조건 구하기\n"
   ]
  },
  {
   "cell_type": "code",
   "execution_count": null,
   "metadata": {},
   "outputs": [
    {
     "name": "stdout",
     "output_type": "stream",
     "text": [
      "----------------------------------------------------------------------------------------------------\n",
      "segment_0\n",
      "140\n",
      "68\n",
      "----------------------------------------------------------------------------------------------------\n",
      "segment_1\n",
      "198\n",
      "106\n",
      "----------------------------------------------------------------------------------------------------\n",
      "segment_2\n",
      "72\n",
      "55\n",
      "----------------------------------------------------------------------------------------------------\n",
      "segment_3\n",
      "141\n",
      "82\n",
      "----------------------------------------------------------------------------------------------------\n",
      "segment_4\n",
      "308\n",
      "141\n",
      "----------------------------------------------------------------------------------------------------\n",
      "segment_5\n",
      "113\n",
      "65\n",
      "----------------------------------------------------------------------------------------------------\n",
      "segment_6\n",
      "193\n",
      "94\n",
      "----------------------------------------------------------------------------------------------------\n",
      "segment_7\n",
      "57\n",
      "33\n",
      "----------------------------------------------------------------------------------------------------\n",
      "segment_8\n",
      "107\n",
      "56\n",
      "----------------------------------------------------------------------------------------------------\n",
      "segment_9\n",
      "143\n",
      "84\n",
      "----------------------------------------------------------------------------------------------------\n",
      "segment_10\n",
      "134\n",
      "87\n",
      "----------------------------------------------------------------------------------------------------\n",
      "segment_11\n",
      "86\n",
      "49\n",
      "----------------------------------------------------------------------------------------------------\n",
      "segment_12\n",
      "190\n",
      "104\n",
      "----------------------------------------------------------------------------------------------------\n",
      "segment_13\n",
      "65\n",
      "39\n",
      "----------------------------------------------------------------------------------------------------\n",
      "segment_14\n",
      "311\n",
      "156\n"
     ]
    },
    {
     "data": {
      "text/plain": [
       "({0: 68,\n",
       "  1: 106,\n",
       "  2: 55,\n",
       "  3: 82,\n",
       "  4: 141,\n",
       "  5: 65,\n",
       "  6: 94,\n",
       "  7: 33,\n",
       "  8: 56,\n",
       "  9: 84,\n",
       "  10: 87,\n",
       "  11: 49,\n",
       "  12: 104,\n",
       "  13: 39,\n",
       "  14: 156},\n",
       " [16, 25, 10, 18, 38, 13, 23, 7, 13, 17, 17, 10, 23, 8, 39])"
      ]
     },
     "metadata": {},
     "output_type": "display_data"
    }
   ],
   "source": [
    "k=15\n",
    "seg_dic = {}\n",
    "len_or_list = []\n",
    "save_dir = f'../output/{embed_model}_rule'\n",
    "\n",
    "for i in range(k):\n",
    "    print('-'*100)\n",
    "    print(f'segment_{i}')\n",
    "    \n",
    "    with open(save_dir + f'/{embed_model}_seg_rule_extract{i}.txt', 'r') as f:\n",
    "        or_list = f.read().split('[OR]')\n",
    "\n",
    "    len_or_list.append(len(or_list))\n",
    "    ls = [[r.split() for r in l.split('[AND]')] for l in or_list]\n",
    "    new_ls = []\n",
    "    for node in ls:\n",
    "        new_ls.append([])\n",
    "        rule_dic = {}\n",
    "        for r in node:\n",
    "            key_name = f'{r[0]} {r[1]} '\n",
    "            rule_dic[key_name] = rule_dic.get(key_name, [])\n",
    "            rule_dic[key_name].append(float(r[2]))    \n",
    "        \n",
    "        for k, v in rule_dic.items():\n",
    "            if k in '>':\n",
    "                rule_dic[k] = max(v)\n",
    "            else:\n",
    "                rule_dic[k] = min(v)\n",
    "        \n",
    "        for k, v in rule_dic.items():\n",
    "            new_rule = k.split()\n",
    "            new_rule.append(str(v))\n",
    "            new_ls[-1].append(new_rule)\n",
    "            \n",
    "    # 생성 규칙 수\n",
    "    total_rule_ls = []\n",
    "    for node in new_ls:\n",
    "        for rule in node:\n",
    "            total_rule_ls.append(str(rule))\n",
    "    \n",
    "    node_list = []\n",
    "    for node in new_ls:\n",
    "        rule_list = []\n",
    "        for rule in node:\n",
    "            rule_list.append(''.join(rule))\n",
    "        node_rule = ' [AND] '.join(rule_list)\n",
    "        node_list.append(node_rule)\n",
    "    total_rule = ' [OR]\\n'.join(node_list)\n",
    "\n",
    "    with open(save_dir + f'/{embed_model}_seg_rule_extract{i}.txt', 'w') as f:\n",
    "        f.writelines(total_rule)\n",
    "        \n",
    "    print(len(total_rule_ls)) # 리스트에서 생성 규칙 수\n",
    "    print(len(set(total_rule_ls))) # set에서 생성 규칙 수\n",
    "            \n",
    "    seg_dic[i] = len(set(total_rule_ls))\n",
    "\n",
    "seg_dic, len_or_list"
   ]
  },
  {
   "cell_type": "markdown",
   "metadata": {},
   "source": [
    "- rule 개수 max/min/avg"
   ]
  },
  {
   "cell_type": "code",
   "execution_count": null,
   "metadata": {},
   "outputs": [],
   "source": [
    "k = 15\n",
    "len_list = []\n",
    "df_list = []\n",
    "\n",
    "for i in range(k):\n",
    "    with open(f'../output/{embed_model}_rule/{embed_model}_new_seg_rule_extract{i}.txt', 'r') as f:\n",
    "        or_list = f.read().split('[OR]')\n",
    "        for and_rule in or_list:\n",
    "            and_list = and_rule.split('[AND]')\n",
    "            len_list.append(len(and_list))\n",
    "    df_list.append((max(len_list), min(len_list), np.mean(len_list)))\n",
    "\n",
    "df = pd.DataFrame(df_list, columns=['max', 'min', 'avg'])"
   ]
  },
  {
   "cell_type": "code",
   "execution_count": null,
   "metadata": {},
   "outputs": [],
   "source": [
    "np.mean(list(seg_dic.values()))"
   ]
  },
  {
   "cell_type": "markdown",
   "metadata": {},
   "source": [
    "- 기존 방법에서 조건 개수"
   ]
  },
  {
   "cell_type": "code",
   "execution_count": null,
   "metadata": {},
   "outputs": [],
   "source": [
    "k = 15\n",
    "set_dic = {}\n",
    "for i in range(k):\n",
    "    print('-'*100)\n",
    "    print(f'segment_{i}')\n",
    "    f = open(f'../output/{embed_model}_rule/{embed_model}_seg_rule_extract{i}.txt', 'r')\n",
    "    ls = [[r.split() for r in l.split('[AND]')] for l in f.read().split('[OR]')]\n",
    "    new_ls = [l for l in f.read().split('[OR]')]\n",
    "    # 생성 규칙 수\n",
    "    total_rule_ls = []\n",
    "    for node in ls:\n",
    "        for rule in node:\n",
    "            total_rule_ls.append(str(rule))\n",
    "    print(len(total_rule_ls)) # 리스트에서 생성 규칙 수\n",
    "    print(len(set(total_rule_ls))) # set에서 생성 규칙 수\n",
    "            \n",
    "    seg_dic[i] = len(set(total_rule_ls))\n",
    "seg_dic"
   ]
  },
  {
   "cell_type": "code",
   "execution_count": null,
   "metadata": {},
   "outputs": [],
   "source": [
    "np.mean(list(seg_dic.values()))"
   ]
  }
 ],
 "metadata": {
  "kernelspec": {
   "display_name": "py39",
   "language": "python",
   "name": "python3"
  },
  "language_info": {
   "codemirror_mode": {
    "name": "ipython",
    "version": 3
   },
   "file_extension": ".py",
   "mimetype": "text/x-python",
   "name": "python",
   "nbconvert_exporter": "python",
   "pygments_lexer": "ipython3",
   "version": "3.9.16"
  }
 },
 "nbformat": 4,
 "nbformat_minor": 2
}
